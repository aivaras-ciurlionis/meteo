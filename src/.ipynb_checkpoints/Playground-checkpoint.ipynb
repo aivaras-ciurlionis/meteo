{
 "cells": [
  {
   "cell_type": "code",
   "execution_count": 51,
   "metadata": {
    "pycharm": {
     "is_executing": false
    }
   },
   "outputs": [],
   "source": [
    "from PIL import ImageChops, Image\n",
    "from matplotlib.pyplot import imshow\n",
    "from matplotlib import pyplot\n",
    "import numpy as np"
   ]
  },
  {
   "cell_type": "code",
   "execution_count": 52,
   "metadata": {
    "pycharm": {
     "is_executing": false,
     "name": "#%%\n"
    }
   },
   "outputs": [],
   "source": [
    "def show(img):\n",
    "    np.asarray(img)\n",
    "    imshow(np.asarray(img))\n",
    "\n",
    "def show2(im1, im2):\n",
    "    f, axis = pyplot.subplots(1,2)\n",
    "    axis[0].imshow(np.asarray(im1))\n",
    "    axis[1].imshow(np.asarray(im2))\n",
    "    \n",
    "def show_all(images):\n",
    "    f, axis = pyplot.subplots(1,len(images))\n",
    "    for i, im in enumerate(images):\n",
    "        axis[i].imshow(np.asarray(im))"
   ]
  },
  {
   "cell_type": "code",
   "execution_count": 54,
   "metadata": {
    "pycharm": {
     "is_executing": false,
     "name": "#%%\n"
    }
   },
   "outputs": [
    {
     "data": {
      "image/png": "[encoded data removed]",
      "text/plain": [
       "<Figure size 432x288 with 4 Axes>"
      ]
     },
     "metadata": {
      "needs_background": "light"
     },
     "output_type": "display_data"
    }
   ],
   "source": [
    "img1 = Image.open('../pics/2017-10-23--09-00-00.png')\n",
    "img2 = Image.open('../pics/2017-10-23--09-15-00.png')\n",
    "img3 = Image.open('../pics/2017-10-23--09-30-00.png')\n",
    "img4 = Image.open('../pics/2017-10-23--09-45-00.png')\n",
    "show_all([img1, img2, img3, img4])"
   ]
  },
  {
   "cell_type": "code",
   "execution_count": 50,
   "metadata": {
    "pycharm": {
     "is_executing": false,
     "name": "#%%\n"
    }
   },
   "outputs": [
    {
     "data": {
      "image/png": "[encoded data removed]",
      "text/plain": [
       "<Figure size 432x288 with 1 Axes>"
      ]
     },
     "metadata": {
      "needs_background": "light"
     },
     "output_type": "display_data"
    }
   ],
   "source": [
    "diff_img = ImageChops.difference(img1,img2)\n",
    "show(diff_img)"
   ]
  },
  {
   "cell_type": "code",
   "execution_count": null,
   "metadata": {},
   "outputs": [],
   "source": []
  }
 ],
 "metadata": {
  "kernelspec": {
   "display_name": "Python 3",
   "language": "python",
   "name": "python3"
  },
  "language_info": {
   "codemirror_mode": {
    "name": "ipython",
    "version": 3
   },
   "file_extension": ".py",
   "mimetype": "text/x-python",
   "name": "python",
   "nbconvert_exporter": "python",
   "pygments_lexer": "ipython3",
   "version": "3.7.3"
  },
  "pycharm": {
   "stem_cell": {
    "cell_type": "raw",
    "metadata": {
     "collapsed": false
    },
    "source": []
   }
  }
 },
 "nbformat": 4,
 "nbformat_minor": 1
}
